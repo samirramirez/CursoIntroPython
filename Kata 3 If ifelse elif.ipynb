{
 "cells": [
  {
   "cell_type": "markdown",
   "metadata": {},
   "source": [
    "# Kata 3"
   ]
  },
  {
   "cell_type": "markdown",
   "metadata": {},
   "source": [
    "### Uso del If, Else y Elif"
   ]
  },
  {
   "cell_type": "markdown",
   "metadata": {},
   "source": [
    "Problema no. 1"
   ]
  },
  {
   "cell_type": "code",
   "execution_count": 4,
   "metadata": {},
   "outputs": [
    {
     "name": "stdout",
     "output_type": "stream",
     "text": [
      "¡ALERTA! un asteroide se acerca a la Tierra\n"
     ]
    }
   ],
   "source": [
    "asteroide = 49\n",
    "\n",
    "if asteroide > 25:\n",
    "    print('¡ALERTA! un asteroide se acerca a la Tierra')\n",
    "else: \n",
    "    print('El dia de hoy es seguro, buen dia :)') "
   ]
  },
  {
   "cell_type": "markdown",
   "metadata": {},
   "source": [
    "Problema no. 2"
   ]
  },
  {
   "cell_type": "code",
   "execution_count": 9,
   "metadata": {},
   "outputs": [
    {
     "name": "stdout",
     "output_type": "stream",
     "text": [
      "No se acerca ningún asteroide a la tierra.\n"
     ]
    }
   ],
   "source": [
    "asteroide = 19\n",
    "if asteroide > 20:\n",
    "    print('¡Miren el cielo! se acerca un esteroirde')\n",
    "elif asteroide == 20:\n",
    "    print('¡Miren el cielo! Hay un asteroide que acerca a la tierra a una velocidad no mayor a 19 km/s.')\n",
    "else:\n",
    "    print('No se acerca ningún asteroide a la tierra.')"
   ]
  },
  {
   "cell_type": "markdown",
   "metadata": {},
   "source": [
    "Problema no. 3"
   ]
  },
  {
   "cell_type": "code",
   "execution_count": 30,
   "metadata": {},
   "outputs": [
    {
     "name": "stdout",
     "output_type": "stream",
     "text": [
      "¡Alerta!, Un asteroide se va a estrellar en nuestro amado planeta\n"
     ]
    }
   ],
   "source": [
    "\n",
    "velocidad = 40\n",
    "tamanio_diametro = 300 \n",
    "\n",
    "\n",
    "if velocidad > 20 and tamanio_diametro > 100:\n",
    "    print('¡Alerta!, Un asteroide se va a estrellar en nuestro amado planeta')\n",
    "elif velocidad >= 10 :\n",
    "    print('Miren el cielo UN ASTEROIDE!')\n",
    "elif tamanio_diametro >= 50:\n",
    "    print('Miren el cielo UN ASTEROIDE!')\n",
    "else:\n",
    "    print('No pasa nada interesante en el cielo :)')"
   ]
  }
 ],
 "metadata": {
  "interpreter": {
   "hash": "47b751291f9b505fe611c4795025ad259ab9791797103356d5b518bac274ddbe"
  },
  "kernelspec": {
   "display_name": "Python 3.10.2 64-bit",
   "language": "python",
   "name": "python3"
  },
  "language_info": {
   "codemirror_mode": {
    "name": "ipython",
    "version": 3
   },
   "file_extension": ".py",
   "mimetype": "text/x-python",
   "name": "python",
   "nbconvert_exporter": "python",
   "pygments_lexer": "ipython3",
   "version": "3.10.2"
  },
  "orig_nbformat": 4
 },
 "nbformat": 4,
 "nbformat_minor": 2
}
